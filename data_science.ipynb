{
  "nbformat": 4,
  "nbformat_minor": 0,
  "metadata": {
    "colab": {
      "provenance": []
    },
    "kernelspec": {
      "name": "python3",
      "display_name": "Python 3"
    },
    "language_info": {
      "name": "python"
    }
  },
  "cells": [
    {
      "cell_type": "code",
      "execution_count": null,
      "metadata": {
        "id": "obmYuNjuuiIL"
      },
      "outputs": [],
      "source": []
    },
    {
      "cell_type": "markdown",
      "source": [
        "# Data science\n",
        "\n",
        "1- what is it used for ?\n",
        "   - it is used to make the data required for the company to analyse"
      ],
      "metadata": {
        "id": "vt0vNsD0uvMt"
      }
    },
    {
      "cell_type": "code",
      "source": [],
      "metadata": {
        "id": "rmfBclYfuu4O"
      },
      "execution_count": null,
      "outputs": []
    },
    {
      "cell_type": "markdown",
      "source": [],
      "metadata": {
        "id": "OzotidTV0JX5"
      }
    }
  ]
}